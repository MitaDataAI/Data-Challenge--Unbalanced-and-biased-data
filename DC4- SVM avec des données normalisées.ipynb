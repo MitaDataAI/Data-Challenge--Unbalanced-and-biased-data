{
 "cells": [
  {
   "cell_type": "markdown",
   "id": "d9e4cf74",
   "metadata": {},
   "source": [
    "# Conclusion :"
   ]
  },
  {
   "cell_type": "markdown",
   "id": "dc897d13",
   "metadata": {},
   "source": [
    "- régression logistique (temps moyen)\n",
    "- SVM rbf avec normalisation (lent)\n",
    "- SVM linéaire sans normalisation (lent)\n",
    "- SGDClassifier (rapide)\n",
    "- OneVSoneClassifierSGDClassifier (rapide)\n",
    "- OneVSrestClassifierSGDClassifier (très rapide)\n",
    "- Autres SVM\n",
    "En générale, SVM s'adapte mieux aux données sans normalisation sauf rbf.\n",
    "\n",
    "Dans ce cas, on va donc maximiser la régression logistique. Mais avant celà, il faut qu'on établisse une fonction pour entrainer automatiquement les modèles et sortir plus de métriques intéressantes"
   ]
  },
  {
   "cell_type": "code",
   "execution_count": 1,
   "id": "c456a05f",
   "metadata": {},
   "outputs": [],
   "source": [
    "from sklearn.preprocessing import StandardScaler\n",
    "import pandas as pd\n",
    "from evaluator import *\n",
    "from sklearn.svm import SVC"
   ]
  },
  {
   "cell_type": "code",
   "execution_count": 8,
   "id": "384a6a9c",
   "metadata": {},
   "outputs": [],
   "source": [
    "df_train = pd.read_csv('df_train.csv')\n",
    "df_validation = pd.read_csv('df_validation.csv')"
   ]
  },
  {
   "cell_type": "markdown",
   "id": "9df63a73",
   "metadata": {},
   "source": [
    "# Normalisation"
   ]
  },
  {
   "cell_type": "code",
   "execution_count": 9,
   "id": "747fd077",
   "metadata": {},
   "outputs": [],
   "source": [
    "X_train = df_train.iloc[:, :768]\n",
    "Y_train = df_train.iloc[:, 768]\n",
    "gender_train = df_train.iloc[:, 769]"
   ]
  },
  {
   "cell_type": "code",
   "execution_count": 12,
   "id": "d016e531",
   "metadata": {},
   "outputs": [],
   "source": [
    "X_validation = df_validation.iloc[:, :768]\n",
    "Y_validation = df_validation.iloc[:, 768]\n",
    "gender_validation = df_validation.iloc[:, 769]"
   ]
  },
  {
   "cell_type": "code",
   "execution_count": 10,
   "id": "1b937bc0",
   "metadata": {},
   "outputs": [],
   "source": [
    "# Création de l'instance scaler\n",
    "scaler = StandardScaler()\n",
    "\n",
    "# Ajustement du scaler sur le jeu de données d'entraînement\n",
    "scaler.fit(X_train)\n",
    "\n",
    "# Normalisation de X_train et X_validation\n",
    "X_train_normalized = scaler.transform(X_train)\n",
    "X_validation_normalized = scaler.transform(X_validation)"
   ]
  },
  {
   "cell_type": "markdown",
   "id": "c6dcfcdb",
   "metadata": {},
   "source": [
    "# Différents SVM sans normalisation "
   ]
  },
  {
   "cell_type": "markdown",
   "id": "e16a9e3a",
   "metadata": {},
   "source": [
    "# Différents SVM sans normalisation"
   ]
  },
  {
   "cell_type": "code",
   "execution_count": null,
   "id": "6f2ec18f",
   "metadata": {},
   "outputs": [],
   "source": [
    "def evaluate_model(model, X_train, Y_train, X_validation, Y_validation, gender_validation):\n",
    "    # Entraîner le modèle sur les données d'entraînement\n",
    "    model.fit(X_train, Y_train)\n",
    "\n",
    "    # Faire des prédictions sur l'ensemble de validation\n",
    "    predictions = model.predict(X_validation)\n",
    "\n",
    "    # Évaluer les scores, en utilisant une fonction gap_eval_scores\n",
    "    eval_scores, confusion_matrices_eval = gap_eval_scores(predictions, Y_validation, gender_validation, metrics=['TPR', 'FPR', 'PPR'])\n",
    "\n",
    "    # Calculer le final_score\n",
    "    final_score = (eval_scores['macro_fscore'] + (1 - eval_scores['TPR_GAP'])) / 2\n",
    "    \n",
    "    return final_score"
   ]
  },
  {
   "cell_type": "code",
   "execution_count": 14,
   "id": "867cb978",
   "metadata": {},
   "outputs": [
    {
     "name": "stdout",
     "output_type": "stream",
     "text": [
      "Modèle LinearSVC avec kernel=N/A, Score Final: 0.7188068032699206\n",
      "Modèle SVC avec kernel=linear, Score Final: 0.7221988908233821\n",
      "Modèle SVC avec kernel=poly, Score Final: 0.7164003376991557\n",
      "Modèle SVC avec kernel=rbf, Score Final: 0.7054093884407573\n",
      "Modèle SVC avec kernel=sigmoid, Score Final: 0.6743839171110846\n"
     ]
    }
   ],
   "source": [
    "from sklearn.svm import LinearSVC, SVC\n",
    "\n",
    "# Configuration et évaluation des différents modèles SVM avec des ajustements pour la convergence\n",
    "models = [\n",
    "    LinearSVC(max_iter=10000, dual=False, tol=1e-4),  # Ajustement de 'max_iter', 'dual', et 'tol' pour LinearSVC\n",
    "    SVC(kernel='linear', tol=1e-4),  # Ajustement de 'tol' pour SVC avec kernel linéaire\n",
    "    SVC(kernel='poly', degree=3, tol=1e-4),  # Ajustement de 'tol' pour SVC avec kernel polynomial\n",
    "    SVC(kernel='rbf', tol=1e-4),  # Ajustement de 'tol' pour SVC avec kernel RBF\n",
    "    SVC(kernel='sigmoid', tol=1e-4)  # Ajustement de 'tol' pour SVC avec kernel sigmoid\n",
    "]\n",
    "\n",
    "for model in models:\n",
    "    try:\n",
    "        final_score = evaluate_model(model, X_train, Y_train, X_validation, Y_validation, gender_validation)\n",
    "        print(f\"Modèle {model.__class__.__name__} avec kernel={getattr(model, 'kernel', 'N/A')}, Score Final: {final_score}\")\n",
    "    except Exception as e:\n",
    "        print(f\"Erreur lors de l'évaluation du modèle {model.__class__.__name__} avec kernel={getattr(model, 'kernel', 'N/A')}: {e}\")"
   ]
  },
  {
   "cell_type": "markdown",
   "id": "18200f63",
   "metadata": {},
   "source": [
    "# Différents SVM avec normalisation"
   ]
  },
  {
   "cell_type": "code",
   "execution_count": 24,
   "id": "53ed2a70",
   "metadata": {},
   "outputs": [
    {
     "name": "stdout",
     "output_type": "stream",
     "text": [
      "Modèle LinearSVC avec kernel=N/A, Score Final: 0.7034994213644952\n",
      "Modèle SVC avec kernel=linear, Score Final: 0.7125674474041342\n",
      "Modèle SVC avec kernel=poly, Score Final: 0.654142888705759\n",
      "Modèle SVC avec kernel=rbf, Score Final: 0.7242901352024325\n",
      "Modèle SVC avec kernel=sigmoid, Score Final: 0.7071213092822344\n"
     ]
    }
   ],
   "source": [
    "from sklearn.svm import LinearSVC, SVC\n",
    "\n",
    "# Configuration et évaluation des différents modèles SVM avec des ajustements pour la convergence\n",
    "models = [\n",
    "    LinearSVC(max_iter=10000, dual=False, tol=1e-4),  # Ajustement de 'max_iter', 'dual', et 'tol' pour LinearSVC\n",
    "    SVC(kernel='linear', tol=1e-4),  # Ajustement de 'tol' pour SVC avec kernel linéaire\n",
    "    SVC(kernel='poly', degree=3, tol=1e-4),  # Ajustement de 'tol' pour SVC avec kernel polynomial\n",
    "    SVC(kernel='rbf', tol=1e-4),  # Ajustement de 'tol' pour SVC avec kernel RBF\n",
    "    SVC(kernel='sigmoid', tol=1e-4)  # Ajustement de 'tol' pour SVC avec kernel sigmoid\n",
    "]\n",
    "\n",
    "for model in models:\n",
    "    try:\n",
    "        final_score = evaluate_model(model, X_train_normalized, Y_train, X_validation_normalized, Y_validation, gender_validation)\n",
    "        print(f\"Modèle {model.__class__.__name__} avec kernel={getattr(model, 'kernel', 'N/A')}, Score Final: {final_score}\")\n",
    "    except Exception as e:\n",
    "        print(f\"Erreur lors de l'évaluation du modèle {model.__class__.__name__} avec kernel={getattr(model, 'kernel', 'N/A')}: {e}\")"
   ]
  }
 ],
 "metadata": {
  "kernelspec": {
   "display_name": "Python 3 (ipykernel)",
   "language": "python",
   "name": "python3"
  },
  "language_info": {
   "codemirror_mode": {
    "name": "ipython",
    "version": 3
   },
   "file_extension": ".py",
   "mimetype": "text/x-python",
   "name": "python",
   "nbconvert_exporter": "python",
   "pygments_lexer": "ipython3",
   "version": "3.11.5"
  }
 },
 "nbformat": 4,
 "nbformat_minor": 5
}
