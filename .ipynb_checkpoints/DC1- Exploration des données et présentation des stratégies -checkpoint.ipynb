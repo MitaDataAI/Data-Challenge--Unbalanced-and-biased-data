{
 "cells": [
  {
   "cell_type": "markdown",
   "id": "82f267bd",
   "metadata": {},
   "source": [
    "# Data Challenge : Introduction aux Machines Learning (BGDIA703)"
   ]
  },
  {
   "cell_type": "markdown",
   "id": "2c91621d",
   "metadata": {},
   "source": [
    "# Auteur : RAKOTONIAINA Pety Ialimita (pety.rakotoniaina@télécom-paris.fr)"
   ]
  },
  {
   "cell_type": "markdown",
   "id": "9abcb13f",
   "metadata": {},
   "source": [
    "# identification de l'objectif du projet"
   ]
  },
  {
   "cell_type": "markdown",
   "id": "30fb73d0",
   "metadata": {},
   "source": [
    "## But\n",
    "La tâche principale est d'assigner la catégorie correcte à un texte tout en tenant en compte de l'équité. Il y a 28 catégories différentes, ce qui en fait une tâche de classification multi-classes. Chaque texte doit être classé dans une et une seule de ces catégories.\n",
    "\n",
    "## Métriques\n",
    "**Evaluation de la Précision: Score Macro F1**\n",
    "\n",
    "Le score F1 est une façon de mesurer à quel point un modèle de classification est précis. Il regarde à la fois la précision (combien de prédictions positives sont correctes) et le rappel (combien de cas positifs réels sont bien identifiés). Ensuite, il combine ces deux mesures en une seule en prenant la moyenne harmonique. C'est comme si on faisait une moyenne qui donne une importance égale à la précision et au rappel. Le score Macro F1 est juste la moyenne de ces scores F1 pour chaque classe. Ça veut dire que chaque classe compte de la même manière, peu importe combien de fois elle apparaît dans les données\n",
    "\n",
    "**Evaluation de l'Equité: Ecart d'Opportunité Egale**\n",
    "\n",
    "- Attribut Sensible (S) : Cela fait référence à une variable spécifique dont le genre sur laquelle l'équité du modèle est évaluée. L'idée est de s'assurer que le modèle ne favorise ni ne défavorise indûment un groupe spécifique basé sur cet attribut.\n",
    "\n",
    "- Écart d'Opportunité Égale : C'est une mesure de l'équité d'un modèle qui évalue si les taux de vrais positifs sont équilibrés entre les groupes protégés définis par l'attribut sensible. Un modèle est considéré comme équitable si cet écart est faible. En d'autres termes, tous les groupes ont des chances égales d'être correctement classifiés pour un résultat positif. La mesure utilisée ici est 1 - l'écart d'opportunité égale, où un modèle parfaitement équitable aurait une valeur de 1.\n",
    "\n",
    "**Objectif**\n",
    "\n",
    "L'objectif opérationnel est de développer un modèle (particulier ou agrégation) qui maximise à la fois la précision (score Macro F1 élevé) et l'équité (critère d'équité proche de 1)."
   ]
  },
  {
   "cell_type": "markdown",
   "id": "77787f15",
   "metadata": {},
   "source": [
    "# Démarches de travail"
   ]
  },
  {
   "cell_type": "markdown",
   "id": "72d1a4bb",
   "metadata": {},
   "source": [
    "La question se pose : comment atteindre notre objectif? D'une manière générale, on effectue différentes étapes transversales et recursives à savoir : l'exploration des données, le data processing et le modelling. On commence avec : \n",
    "\n",
    "## Exploration de données : \n",
    "\n",
    "Objectif : comprendre le dataset pour définir une stratégie de modélisation\n",
    "\n",
    "### Analyse de la forme : \n",
    "- Dimension du dataset en termes de variables et nombres d'observations\n",
    "- Dimension des données pour l'entrainement et le test\n",
    "- identification de l'absence des valeurs manquantes\n",
    "- identification de la non standartisation des variables dans l'entrainement et dans le test\n",
    "\n",
    "### Analyse de fonds : \n",
    "- détection du déséquilibre de classe dans le target\n",
    "- détection de la nature du biais : la dépendance entre le target et le genre\n",
    "\n",
    "### Remarques importantes\n",
    "- L'exploration se termine par la conception de la stratégie à suivre durant le projet de classification. \n",
    "- A chaque fichier de DC2 à DC10, on a mis les conclusions au début pour faciliter la lecture. \n",
    "- Le meilleur modèle qu'on a eu peut être téléchargeable dans DC10."
   ]
  },
  {
   "cell_type": "markdown",
   "id": "c39eea1f",
   "metadata": {},
   "source": [
    "# Packages "
   ]
  },
  {
   "cell_type": "code",
   "execution_count": null,
   "id": "2c4372c7",
   "metadata": {},
   "outputs": [],
   "source": []
  },
  {
   "cell_type": "code",
   "execution_count": 30,
   "id": "0ed8c002",
   "metadata": {},
   "outputs": [],
   "source": [
    "import pickle\n",
    "import pandas as pd\n",
    "import numpy as np\n",
    "import matplotlib.pyplot as plt\n",
    "from scipy.stats import chi2_contingency"
   ]
  },
  {
   "cell_type": "markdown",
   "id": "48ba4e3e",
   "metadata": {},
   "source": [
    "## Importer les données"
   ]
  },
  {
   "cell_type": "code",
   "execution_count": 2,
   "id": "5feb1203",
   "metadata": {},
   "outputs": [],
   "source": [
    "with open('data-challenge-student.pickle', 'rb') as handle:\n",
    "    # dat = pickle.load(handle)\n",
    "    dat = pd.read_pickle(handle)"
   ]
  },
  {
   "cell_type": "markdown",
   "id": "0410d8db",
   "metadata": {},
   "source": [
    "## 1. Analyse de la forme"
   ]
  },
  {
   "cell_type": "markdown",
   "id": "b51ff1b7",
   "metadata": {},
   "source": [
    "### 1.1. Première impression globale"
   ]
  },
  {
   "cell_type": "code",
   "execution_count": 3,
   "id": "0eea68d6",
   "metadata": {},
   "outputs": [
    {
     "data": {
      "text/plain": [
       "{'X_train':             0         1         2         3         4         5         6    \\\n",
       " 28553 -0.107712  0.202686 -0.036410 -0.538686  0.162234 -0.109034 -0.075343   \n",
       " 6286   0.056359  0.003188 -0.726052 -0.616777  0.064091 -0.068786  0.384864   \n",
       " 36284 -0.331249  0.210670 -0.202662 -0.654994  0.307785 -0.254564 -0.165728   \n",
       " 12083 -0.565799  0.118481  0.185003 -0.692792 -0.056820  0.039130  0.241766   \n",
       " 7859  -0.669160 -0.052143 -0.708578 -0.159049 -0.273591  0.059959 -0.134847   \n",
       " ...         ...       ...       ...       ...       ...       ...       ...   \n",
       " 6265  -0.477219 -0.340833  0.164393 -0.458924  0.052212 -0.441877  0.169248   \n",
       " 11284 -0.357661 -0.081198  0.371942 -0.535762  0.083119 -0.410523  0.307964   \n",
       " 38158 -0.510303 -0.441524 -0.445965 -0.568472 -0.319142  0.211381  0.438302   \n",
       " 860   -0.183741 -0.053005 -0.181491 -0.876436 -0.257675  0.030207  0.487837   \n",
       " 15795 -0.270753  0.010459 -0.206073 -0.748081 -0.095389 -0.006112  0.334259   \n",
       " \n",
       "             7         8         9    ...       758       759       760  \\\n",
       " 28553  0.202060 -0.120114 -0.540793  ...  0.058022 -0.117150  0.684212   \n",
       " 6286   0.363644 -0.285173 -0.430806  ... -0.049452 -0.587354 -0.004443   \n",
       " 36284  0.540352 -0.184862 -0.696042  ...  0.069515 -0.030068  0.616826   \n",
       " 12083 -0.113560 -0.138898 -0.768206  ... -0.071413 -0.310701  0.157026   \n",
       " 7859   0.045078 -0.308037 -0.585879  ... -0.018836 -0.473991  0.177165   \n",
       " ...         ...       ...       ...  ...       ...       ...       ...   \n",
       " 6265   0.078710 -0.166346 -0.014477  ... -0.169347 -0.118497  0.059506   \n",
       " 11284  0.151103 -0.182646 -0.403730  ...  0.038249 -0.657607 -0.089905   \n",
       " 38158  0.508557 -0.311186 -0.057220  ...  0.439944 -0.318620  0.250548   \n",
       " 860    0.243077 -0.516995 -0.144323  ... -0.147021 -0.363202 -0.332512   \n",
       " 15795  0.547019 -0.318178 -0.483135  ... -0.164547 -0.274065 -0.096948   \n",
       " \n",
       "             761       762       763       764       765       766       767  \n",
       " 28553 -0.456693  0.342016  0.237988 -0.507806  0.064729  0.255565  0.510899  \n",
       " 6286  -0.924459 -0.402672  0.170605 -0.074348  0.130570  0.328335  0.139750  \n",
       " 36284 -0.952147  0.154724  0.262131 -0.708171  0.123852  0.537076  0.409024  \n",
       " 12083 -0.691291 -0.273562  0.121746 -0.394475 -0.463161  0.132829  0.264848  \n",
       " 7859  -0.409756  0.027797 -0.096018 -0.390492  0.211198  0.340143  0.191472  \n",
       " ...         ...       ...       ...       ...       ...       ...       ...  \n",
       " 6265  -0.435182  0.271113 -0.147222 -0.461006  0.086020  0.654242  0.605134  \n",
       " 11284 -0.480338  0.278271  0.230093 -0.459996  0.029274  0.189477  0.472178  \n",
       " 38158 -0.981233 -0.018307  0.158328 -0.171069  0.110759  0.338533 -0.175706  \n",
       " 860   -0.861050  0.185234  0.233066 -0.511294  0.038242  0.139068  0.506457  \n",
       " 15795 -0.466004  0.317068  0.288709  0.016236 -0.138069  0.226619  0.735494  \n",
       " \n",
       " [27749 rows x 768 columns],\n",
       " 'X_test':             0         1         2         3         4         5         6    \\\n",
       " 25030 -0.368998  0.322131 -0.704650 -0.487930  0.263484 -0.157412  0.637189   \n",
       " 10480 -0.798718 -0.163476 -0.778203 -0.303253  0.101616  0.114148  0.033628   \n",
       " 15370 -0.332048  0.154955  0.228401 -0.361025  0.139676 -0.278650  0.062896   \n",
       " 30370 -0.024895  0.020497 -0.655410 -0.344609  0.263747  0.064553  0.311318   \n",
       " 198   -0.478682 -0.289606 -0.680533 -0.551295 -0.301918  0.134867  0.389546   \n",
       " ...         ...       ...       ...       ...       ...       ...       ...   \n",
       " 33095 -0.772788  0.302579 -1.278529 -0.131947 -0.185387 -0.048025  0.174459   \n",
       " 32557  0.023240 -0.816835 -0.450442 -0.753844  0.140611  0.018739  0.274355   \n",
       " 19492 -0.350004 -0.356753 -1.186935 -0.369878  0.244391  0.403851 -0.058119   \n",
       " 574   -0.721361  0.431469 -0.781807 -0.121818  0.283141  0.301656 -0.118928   \n",
       " 28124 -0.289500  0.058143 -0.035129 -0.826079  0.093186 -0.145615  0.339442   \n",
       " \n",
       "             7         8         9    ...       758       759       760  \\\n",
       " 25030  0.458605  0.596435 -0.835866  ...  0.390953 -0.363329  0.220379   \n",
       " 10480 -0.015073 -0.283400 -0.341194  ... -0.145081 -0.115047  0.265799   \n",
       " 15370  0.249214 -0.151258 -0.062215  ... -0.058508 -0.224427  0.336485   \n",
       " 30370  0.695900 -0.215871  0.061107  ...  0.114827 -0.412542 -0.034297   \n",
       " 198   -0.036911 -0.166200 -0.015900  ... -0.206212 -0.490872 -0.487696   \n",
       " ...         ...       ...       ...  ...       ...       ...       ...   \n",
       " 33095  0.647140 -0.095313  0.301693  ...  0.015655 -0.572710 -0.298658   \n",
       " 32557  0.152588 -0.099802  0.242761  ... -0.371583 -0.305671 -0.205999   \n",
       " 19492 -0.391029 -0.039620  0.109886  ... -0.265586 -0.648874  0.010271   \n",
       " 574    0.197938 -0.385256 -0.560848  ... -0.102665 -0.335059  0.189228   \n",
       " 28124 -0.050276 -0.158433 -0.160536  ... -0.134356 -0.272530  0.102698   \n",
       " \n",
       "             761       762       763       764       765       766       767  \n",
       " 25030 -0.391129 -0.487129  0.195918  0.504882 -0.323177  0.352020 -0.069674  \n",
       " 10480 -0.310642  0.085149  0.009955 -0.472515  0.435415  0.333615  0.333332  \n",
       " 15370 -0.278294 -0.344524  0.459562 -0.509930  0.202124  0.100294  0.163602  \n",
       " 30370  0.135550 -0.295133  0.321530 -0.148996  0.308671  0.289099  0.042323  \n",
       " 198   -0.584153 -0.016140  0.214927 -0.358706  0.465947  0.420939  0.391915  \n",
       " ...         ...       ...       ...       ...       ...       ...       ...  \n",
       " 33095 -0.531442 -0.063738  0.405397 -0.142787  0.282321  0.537541  0.118393  \n",
       " 32557 -0.676529 -0.105608  0.246365 -0.759054  0.576365  0.372962  0.353842  \n",
       " 19492 -0.806897  0.088819  0.289848 -0.549931  0.580523  0.268184  0.360520  \n",
       " 574   -0.063823  0.098668  0.310712 -0.187521  0.291582  0.401698 -0.248305  \n",
       " 28124 -0.681279  0.088220  0.488977 -0.214674  0.400899  0.476969  0.294328  \n",
       " \n",
       " [11893 rows x 768 columns],\n",
       " 'Y': 28553     6\n",
       " 6286      9\n",
       " 36284     6\n",
       " 12083    22\n",
       " 7859     21\n",
       "          ..\n",
       " 6265     19\n",
       " 11284    13\n",
       " 38158    12\n",
       " 860      22\n",
       " 15795    26\n",
       " Name: profession_class, Length: 27749, dtype: int64,\n",
       " 'S_train': 28553    0\n",
       " 6286     1\n",
       " 36284    0\n",
       " 12083    1\n",
       " 7859     0\n",
       "         ..\n",
       " 6265     1\n",
       " 11284    1\n",
       " 38158    1\n",
       " 860      1\n",
       " 15795    1\n",
       " Name: gender_class, Length: 27749, dtype: int64,\n",
       " 'S_test': 25030    0\n",
       " 10480    0\n",
       " 15370    0\n",
       " 30370    0\n",
       " 198      1\n",
       "         ..\n",
       " 33095    0\n",
       " 32557    1\n",
       " 19492    1\n",
       " 574      0\n",
       " 28124    1\n",
       " Name: gender_class, Length: 11893, dtype: int64}"
      ]
     },
     "execution_count": 3,
     "metadata": {},
     "output_type": "execute_result"
    }
   ],
   "source": [
    "dat"
   ]
  },
  {
   "cell_type": "code",
   "execution_count": 4,
   "id": "2d509f01",
   "metadata": {},
   "outputs": [
    {
     "name": "stdout",
     "output_type": "stream",
     "text": [
      "<class 'dict'>\n"
     ]
    }
   ],
   "source": [
    "print(type(dat))"
   ]
  },
  {
   "cell_type": "code",
   "execution_count": 6,
   "id": "960a586f",
   "metadata": {},
   "outputs": [
    {
     "name": "stdout",
     "output_type": "stream",
     "text": [
      "Type de données de X_train: <class 'pandas.core.frame.DataFrame'>\n",
      "Type de données de X_test: <class 'pandas.core.frame.DataFrame'>\n",
      "Type de données de Y: <class 'pandas.core.series.Series'>\n",
      "Type de données de S_train: <class 'pandas.core.series.Series'>\n",
      "Type de données de S_test: <class 'pandas.core.series.Series'>\n"
     ]
    }
   ],
   "source": [
    "for key, value in dat.items():\n",
    "    print(f\"Type de données de {key}: {type(value)}\")"
   ]
  },
  {
   "cell_type": "markdown",
   "id": "61645ecd",
   "metadata": {},
   "source": [
    "Les features sont des dataFrames : bidimensionnelle avec des index étiquetés.\n",
    "Le reste s'agit de séries : unidimensionnelle. \n",
    "\n",
    "Afin de faciliter notre analyse, on doit se procéder à une décomposition de la base de données"
   ]
  },
  {
   "cell_type": "markdown",
   "id": "6960cb09",
   "metadata": {},
   "source": [
    "### 1.2. Décomposition et Calcul du pourcentage de répartition des échantillons"
   ]
  },
  {
   "cell_type": "code",
   "execution_count": 8,
   "id": "257e81ea",
   "metadata": {},
   "outputs": [],
   "source": [
    "# Features\n",
    "X_train = dat['X_train']\n",
    "X_test = dat['X_test'] \n",
    "\n",
    "# Données à prédire\n",
    "Y_train = dat['Y']\n",
    "\n",
    "# Attributs sensibles\n",
    "S_train = dat['S_train']\n",
    "S_test = dat['S_test']"
   ]
  },
  {
   "cell_type": "code",
   "execution_count": 11,
   "id": "25b1c1bc",
   "metadata": {},
   "outputs": [
    {
     "name": "stdout",
     "output_type": "stream",
     "text": [
      "X_train: (27749, 768)\n",
      "X_test: (11893, 768)\n",
      "Y_train : (27749,)\n",
      "S_train : (27749,)\n",
      "S_test : (11893,)\n",
      "nombre total d'observations: 39642\n",
      "pourcentage de X_train: 0.6999899096917411\n"
     ]
    }
   ],
   "source": [
    "total = len(X_train) + len(X_test)\n",
    "pourcentage_train = len(X_train) / total\n",
    "print(\"X_train:\", X_train.shape)\n",
    "print(\"X_test:\", X_test.shape)\n",
    "print(\"Y_train :\", Y_train.shape)\n",
    "print(\"S_train :\", S_train.shape)\n",
    "print(\"S_test :\", S_test.shape)\n",
    "print(\"nombre total d'observations:\", total) \n",
    "print(\"pourcentage de X_train:\", pourcentage_train)"
   ]
  },
  {
   "cell_type": "markdown",
   "id": "0191e8dc",
   "metadata": {},
   "source": [
    "La base de données de départ contient alors les éléments suivants : \n",
    "- **X_train** est un dataframe contenant les features pour l'entraînement. Il a 27749 nombre d'observations et 768 variables.\n",
    "\n",
    "- **X_test** est aussi un dataframe qui contient les features pour le test. Il a moins de nombre d'observations avec 11893 mais avec le même nombre de variable que X_train. En gros, on peut observer qu'environ 70% des échantillons sont dans X_train et le reste pour le test. C'est une bonne répartition vu la taille élevée des données.\n",
    "\n",
    "- **Y** contient les étiquettes (labels) pour toutes les données. Y signifie ici Y_train, il a le même nombre d'observation que X_train. Par contre, on ne sait pas le Y_test puisqu'il sera à prédire. **Pour ne pas éviter une confusion, on peut changer Y en Y_train. **\n",
    "\n",
    "- **S_train** et **S_test** sont les attributs sensibles (par exemple, le genre) pour les ensembles d'entraînement et de test."
   ]
  },
  {
   "cell_type": "markdown",
   "id": "32aa0dd0",
   "metadata": {},
   "source": [
    "### 1.4. Vérification des NA"
   ]
  },
  {
   "cell_type": "code",
   "execution_count": 12,
   "id": "c55809de",
   "metadata": {},
   "outputs": [
    {
     "name": "stdout",
     "output_type": "stream",
     "text": [
      "Nombre de NA dans X_train: 0\n",
      "Nombre de NA dans X_test: 0\n",
      "Nombre de NA dans Y: 0\n",
      "Nombre de NA dans S_train: 0\n",
      "Nombre de NA dans S_test: 0\n"
     ]
    }
   ],
   "source": [
    "# Comptage du nombre de NA dans la base de données\n",
    "nombre_NA = {}\n",
    "\n",
    "for key, value in dat.items():\n",
    "    if isinstance(value, pd.DataFrame):\n",
    "        # Compter les NA pour chaque colonne dans un DataFrame\n",
    "        nombre_NA[key] = value.isna().sum().sum()  # Somme des NA dans tout le DataFrame\n",
    "    elif isinstance(value, pd.Series):\n",
    "        # Compter les NA dans une Series\n",
    "        nombre_NA[key] = value.isna().sum()\n",
    "\n",
    "# Afficher le nombre de NA pour chaque composant de dat\n",
    "for key, na_count in nombre_NA.items():\n",
    "    print(f\"Nombre de NA dans {key}: {na_count}\")"
   ]
  },
  {
   "cell_type": "markdown",
   "id": "f121fa72",
   "metadata": {},
   "source": [
    "C'est une bonne nouvelle. Nos données sont toutes complètes. Par conséquent, on peut passer à une analyse de fonds maintenant"
   ]
  },
  {
   "cell_type": "markdown",
   "id": "9b57f21b",
   "metadata": {},
   "source": [
    "### 1.5. Vérification de la standartisation des variables d'entrainement"
   ]
  },
  {
   "cell_type": "markdown",
   "id": "654265ea",
   "metadata": {},
   "source": [
    "Chaque variable standartisée suit les propriétés suivantes : \n",
    "- moyenne = 0\n",
    "- écart_type = 1\n",
    "A prtir de cette propriété, on va chercher si les variables sont standartisées."
   ]
  },
  {
   "cell_type": "code",
   "execution_count": 14,
   "id": "6fb73d75",
   "metadata": {},
   "outputs": [],
   "source": [
    "stat_normal = X_train.aggregate(['mean', 'std'])"
   ]
  },
  {
   "cell_type": "code",
   "execution_count": 15,
   "id": "c85bc1fa",
   "metadata": {},
   "outputs": [],
   "source": [
    "# vérifier l'intervalle si x appartient à [0, 1]\n",
    "intervalle = (X_train.min() >= 0) & (X_train.max() <= 1)\n",
    "\n",
    "# Cette étape considère une variable comme standartisée si sa moyenne est proche de 0 et son écart-type proche de 1\n",
    "normalise = stat_normal.loc['mean'].abs().lt(0.01) & stat_normal.loc['std'].between(0.99, 1.01)\n",
    "\n",
    "# Compter le nombre de variables qui ne respectent pas l'intervalle [0, 1]\n",
    "num_variables_dehors_intervalle = (~intervalle).sum()\n",
    "\n",
    "# Compter le nombre de variables qui ne sont pas considérées comme standartisées \n",
    "num_variables_non_normalise = (~normalise).sum()"
   ]
  },
  {
   "cell_type": "code",
   "execution_count": 16,
   "id": "5b09d34e",
   "metadata": {},
   "outputs": [
    {
     "data": {
      "text/plain": [
       "(768, 768)"
      ]
     },
     "execution_count": 16,
     "metadata": {},
     "output_type": "execute_result"
    }
   ],
   "source": [
    "num_variables_dehors_intervalle , num_variables_non_normalise"
   ]
  },
  {
   "cell_type": "markdown",
   "id": "138c5c0e",
   "metadata": {},
   "source": [
    "L'ensemble des features ne sont pas centrés et réduite. Ils sont centrés ou réduites?  "
   ]
  },
  {
   "cell_type": "code",
   "execution_count": 18,
   "id": "9299ce4d",
   "metadata": {},
   "outputs": [
    {
     "name": "stdout",
     "output_type": "stream",
     "text": [
      "nombre de variables non centrées: 748\n",
      "nombre de variables non réduites: 768\n"
     ]
    }
   ],
   "source": [
    "centree = stat_normal.loc['mean'].abs().lt(0.01)\n",
    "num_variables_non_centrees = (~centree).sum()\n",
    "reduite = stat_normal.loc['std'].between(0.99, 1.01)\n",
    "num_variables_non_reduite = (~reduite).sum()\n",
    "\n",
    "print(\"nombre de variables non centrées:\", num_variables_non_centrees)\n",
    "print(\"nombre de variables non réduites:\", num_variables_non_reduite)"
   ]
  },
  {
   "cell_type": "code",
   "execution_count": 19,
   "id": "10f82041",
   "metadata": {},
   "outputs": [
    {
     "data": {
      "image/png": "[encoded data removed]",
      "text/plain": [
       "<Figure size 1400x600 with 2 Axes>"
      ]
     },
     "metadata": {},
     "output_type": "display_data"
    }
   ],
   "source": [
    "# Illustration graphique\n",
    "plt.figure(figsize=(14, 6))\n",
    "\n",
    "plt.subplot(1, 2, 1) # 1 ligne, 2 colonnes, 1er graphique\n",
    "plt.hist(stat_normal.loc['mean'], bins=30, color='skyblue', edgecolor='black')\n",
    "plt.title('Distribution des moyennes')\n",
    "plt.xlabel('Moyenne')\n",
    "plt.ylabel('Nombre de variables')\n",
    "\n",
    "# Créer un histogramme pour les écarts-types\n",
    "plt.subplot(1, 2, 2) # 1 ligne, 2 colonnes, 2ème graphique\n",
    "plt.hist(stat_normal.loc['std'], bins=30, color='orange', edgecolor='black')\n",
    "plt.title('Distribution des écarts-types')\n",
    "plt.xlabel('Écart-type')\n",
    "plt.ylabel('Nombre de variables')\n",
    "\n",
    "plt.tight_layout()\n",
    "plt.show()"
   ]
  },
  {
   "cell_type": "markdown",
   "id": "ad0bd28e",
   "metadata": {},
   "source": [
    "**Histogramme des Moyennes :** La distribution montre une tendance centrée autour de zéro, conforme à la standardisation. Cependant, certaines variables présentent des moyennes significativement éloignées de zéro, suggérant une non-standardisation\n",
    "\n",
    "**Histogramme des Écarts-Types :** La plupart des variables ont des écarts-types inférieurs à 1 mais sont éloignées.\n",
    "\n",
    "Les variables ne sont donc pas standartisées. "
   ]
  },
  {
   "cell_type": "markdown",
   "id": "311486bc",
   "metadata": {},
   "source": [
    "### 1.6. Vérification de la standartisation des variables de test "
   ]
  },
  {
   "cell_type": "code",
   "execution_count": 20,
   "id": "9ddecf08",
   "metadata": {},
   "outputs": [],
   "source": [
    "stat_normal_test = X_test.aggregate(['mean', 'std'])"
   ]
  },
  {
   "cell_type": "code",
   "execution_count": 21,
   "id": "9e27b72c",
   "metadata": {},
   "outputs": [
    {
     "data": {
      "image/png": "[encoded data removed]",
      "text/plain": [
       "<Figure size 1400x600 with 2 Axes>"
      ]
     },
     "metadata": {},
     "output_type": "display_data"
    }
   ],
   "source": [
    "# Illustration graphique\n",
    "plt.figure(figsize=(14, 6))\n",
    "\n",
    "plt.subplot(1, 2, 1) # 1 ligne, 2 colonnes, 1er graphique\n",
    "plt.hist(stat_normal_test.loc['mean'], bins=30, color='skyblue', edgecolor='black')\n",
    "plt.title('Distribution des moyennes')\n",
    "plt.xlabel('Moyenne')\n",
    "plt.ylabel('Nombre de variables')\n",
    "\n",
    "# Créer un histogramme pour les écarts-types\n",
    "plt.subplot(1, 2, 2) # 1 ligne, 2 colonnes, 2ème graphique\n",
    "plt.hist(stat_normal_test.loc['std'], bins=30, color='orange', edgecolor='black')\n",
    "plt.title('Distribution des écarts-types')\n",
    "plt.xlabel('Écart-type')\n",
    "plt.ylabel('Nombre de variables')\n",
    "\n",
    "plt.tight_layout()\n",
    "plt.show()"
   ]
  },
  {
   "cell_type": "markdown",
   "id": "1b6246be",
   "metadata": {},
   "source": [
    "Même observation pour le test. Il faut ajouter que la distribution de X_test est très semblable à X_train."
   ]
  },
  {
   "cell_type": "markdown",
   "id": "23e1b91d",
   "metadata": {},
   "source": [
    "## 2. Analyse de fonds"
   ]
  },
  {
   "cell_type": "markdown",
   "id": "6d95e35c",
   "metadata": {},
   "source": [
    "### 2.1. Analyse du target"
   ]
  },
  {
   "cell_type": "markdown",
   "id": "cbe97100",
   "metadata": {},
   "source": [
    "#### Question : \n",
    "- Les classes représentent quoi? \n",
    "- Est-ce qu'il y a certains classes plus représentés dans les données que d'autres? "
   ]
  },
  {
   "cell_type": "code",
   "execution_count": 23,
   "id": "2dd46846",
   "metadata": {},
   "outputs": [
    {
     "data": {
      "text/plain": [
       "21    8285\n",
       "19    2918\n",
       "2     2273\n",
       "18    1715\n",
       "11    1402\n",
       "13    1316\n",
       "22    1295\n",
       "26    1121\n",
       "6      994\n",
       "25     948\n",
       "1      703\n",
       "14     542\n",
       "12     524\n",
       "20     504\n",
       "9      499\n",
       "24     467\n",
       "0      387\n",
       "5      386\n",
       "7      262\n",
       "4      206\n",
       "3      184\n",
       "16     178\n",
       "15     136\n",
       "27     115\n",
       "8      107\n",
       "17      97\n",
       "10      93\n",
       "23      92\n",
       "Name: profession_class, dtype: int64"
      ]
     },
     "execution_count": 23,
     "metadata": {},
     "output_type": "execute_result"
    }
   ],
   "source": [
    "Y_train.value_counts()"
   ]
  },
  {
   "cell_type": "markdown",
   "id": "ea470e2b",
   "metadata": {},
   "source": [
    "Quand on parle de classification de texte, on fait référence à la profession des personnes. Ainsi, par anticipation la tâche ici est de détecter la profession d'une personne à partir de ses caractéristiques. Nous avons vu aussi combien de personnes se situent dans chaque classe.\n",
    "\n",
    "Cette distribution montre le nombre d'observations par classe de profession dans notre ensemble de données, où chaque classe est identifiée par un numéro (par exemple, 21, 19, 2, etc.)\n",
    "La classe 21 detient plus d'un quart des observations. \n",
    "Le top 03 de notre classification est 21, 19 et 2. Ce sont les valeurs qui concident avec plus de 2000 personnes. Le top 8 detiennent à chacun plus de 1000 personnes. A partir de là, il y a une dégression des valeurs jusqu'à 92 personnes uniquement pour la classe 23.\n",
    "\n",
    "Nous pouvons déjà comprendre que nos données detiennent un **grand déséquilibre des classes**. Une telle information influence nécessairement la stratégie de modélisation. \n",
    "\n",
    "Pour faciliter la compréhension, on utilise un graphique sous format de pourcentage. "
   ]
  },
  {
   "cell_type": "code",
   "execution_count": 24,
   "id": "6cde9368",
   "metadata": {},
   "outputs": [
    {
     "data": {
      "image/png": "[encoded data removed]",
      "text/plain": [
       "<Figure size 1400x800 with 1 Axes>"
      ]
     },
     "metadata": {},
     "output_type": "display_data"
    }
   ],
   "source": [
    "# Calcul de la fréquence relative, triée par valeur et non par index\n",
    "frequence_relative = Y_train.value_counts(normalize=True).sort_values(ascending=False)\n",
    "\n",
    "# Création du graphique\n",
    "fig, ax = plt.subplots(figsize=(14, 8))\n",
    "\n",
    "# Index pour les classes de profession, basé sur l'ordre trié\n",
    "classes = np.arange(len(frequence_relative))\n",
    "\n",
    "# Graphique pour les fréquences relatives\n",
    "ax.bar(classes, frequence_relative, width=0.8, color='lightgreen')\n",
    "\n",
    "# Mise en forme\n",
    "ax.set_xlabel('Profession Class')\n",
    "ax.set_ylabel('Fréquence relative')\n",
    "ax.set_title('Déséquilibre de classe de profession ')\n",
    "ax.set_xticks(classes)\n",
    "\n",
    "# Définir les étiquettes de l'axe x pour correspondre aux classes originales, dans l'ordre de fréquence\n",
    "ax.set_xticklabels(frequence_relative.index)\n",
    "plt.xticks(rotation=90)  # Rotation des étiquettes pour une meilleure lisibilité\n",
    "\n",
    "plt.tight_layout()  # Ajustements automatiques de la mise en page\n",
    "plt.show()"
   ]
  },
  {
   "cell_type": "markdown",
   "id": "b874b7b1",
   "metadata": {},
   "source": [
    "Le déséquilibre dans la variable cible peut vraiment conduire à des modèles de prédictions biaisés. En effet, il y a un Biais envers la classe majoritaire. Le modèle futur serait biaisé en faveur de la classe la plus représentée dans la variable cible, réduisant ainsi sa capacité à identifier correctement les instances de la classe minoritaire.\n",
    "\n",
    "Sans ce précipiter, voyons si le genre est corrélé avec la variable cible et n'est pas distribué équitablement. Dans ce cas, le modèle peut apprendre à associer certaines professions à un genre spécifique, ce qui pourrait mener à des prédictions discriminatoires."
   ]
  },
  {
   "cell_type": "markdown",
   "id": "3a748688",
   "metadata": {},
   "source": [
    "## 2. Relation entre le target et le genre"
   ]
  },
  {
   "cell_type": "markdown",
   "id": "044a9710",
   "metadata": {},
   "source": [
    "### 2.1. Analyse du genre"
   ]
  },
  {
   "cell_type": "code",
   "execution_count": null,
   "id": "4879e584",
   "metadata": {},
   "outputs": [],
   "source": [
    "#### Questions : \n",
    "- La répartition entre les femmes et les hommes dans les données est-elle équilibrée ?\"\n",
    "- Y a-t-il une dépendance entre le genre et la profession ?"
   ]
  },
  {
   "cell_type": "code",
   "execution_count": 25,
   "id": "76fc736e",
   "metadata": {},
   "outputs": [
    {
     "data": {
      "image/png": "[encoded data removed]",
      "text/plain": [
       "<Figure size 800x600 with 1 Axes>"
      ]
     },
     "metadata": {},
     "output_type": "display_data"
    }
   ],
   "source": [
    "# Compter les occurrences de chaque classe dans la série\n",
    "counts = S_train.value_counts()\n",
    "\n",
    "# Créer un diagramme en camembert\n",
    "# Définir les couleurs\n",
    "colors = ['lightgreen', 'grey']\n",
    "\n",
    "# Créer un diagramme en camembert\n",
    "plt.figure(figsize=(8, 6))\n",
    "plt.pie(counts, labels=['Femme', 'Homme'], autopct='%1.1f%%', startangle=140, colors=colors, textprops={'fontsize': 12})\n",
    "plt.title('Répartition des genres', fontsize=14)\n",
    "plt.axis('equal')\n",
    "plt.show()"
   ]
  },
  {
   "cell_type": "markdown",
   "id": "35231300",
   "metadata": {},
   "source": [
    "Même si la différence n'est énorme, on peut voir que les femmes ont un nombre élevé un peu élevé. Cet déséquilibre s'accompagne-t-elle de la dépendance avec les professions? "
   ]
  },
  {
   "cell_type": "markdown",
   "id": "4a10ae39",
   "metadata": {},
   "source": [
    "### 2.2. Création d'un tableau croisé"
   ]
  },
  {
   "cell_type": "code",
   "execution_count": 27,
   "id": "dd63b7a1",
   "metadata": {},
   "outputs": [
    {
     "data": {
      "text/html": [
       "<div>\n",
       "<style scoped>\n",
       "    .dataframe tbody tr th:only-of-type {\n",
       "        vertical-align: middle;\n",
       "    }\n",
       "\n",
       "    .dataframe tbody tr th {\n",
       "        vertical-align: top;\n",
       "    }\n",
       "\n",
       "    .dataframe thead th {\n",
       "        text-align: right;\n",
       "    }\n",
       "</style>\n",
       "<table border=\"1\" class=\"dataframe\">\n",
       "  <thead>\n",
       "    <tr style=\"text-align: right;\">\n",
       "      <th></th>\n",
       "      <th>Profession</th>\n",
       "      <th>Genre</th>\n",
       "    </tr>\n",
       "  </thead>\n",
       "  <tbody>\n",
       "    <tr>\n",
       "      <th>28553</th>\n",
       "      <td>6</td>\n",
       "      <td>0</td>\n",
       "    </tr>\n",
       "    <tr>\n",
       "      <th>6286</th>\n",
       "      <td>9</td>\n",
       "      <td>1</td>\n",
       "    </tr>\n",
       "    <tr>\n",
       "      <th>36284</th>\n",
       "      <td>6</td>\n",
       "      <td>0</td>\n",
       "    </tr>\n",
       "    <tr>\n",
       "      <th>12083</th>\n",
       "      <td>22</td>\n",
       "      <td>1</td>\n",
       "    </tr>\n",
       "    <tr>\n",
       "      <th>7859</th>\n",
       "      <td>21</td>\n",
       "      <td>0</td>\n",
       "    </tr>\n",
       "    <tr>\n",
       "      <th>...</th>\n",
       "      <td>...</td>\n",
       "      <td>...</td>\n",
       "    </tr>\n",
       "    <tr>\n",
       "      <th>6265</th>\n",
       "      <td>19</td>\n",
       "      <td>1</td>\n",
       "    </tr>\n",
       "    <tr>\n",
       "      <th>11284</th>\n",
       "      <td>13</td>\n",
       "      <td>1</td>\n",
       "    </tr>\n",
       "    <tr>\n",
       "      <th>38158</th>\n",
       "      <td>12</td>\n",
       "      <td>1</td>\n",
       "    </tr>\n",
       "    <tr>\n",
       "      <th>860</th>\n",
       "      <td>22</td>\n",
       "      <td>1</td>\n",
       "    </tr>\n",
       "    <tr>\n",
       "      <th>15795</th>\n",
       "      <td>26</td>\n",
       "      <td>1</td>\n",
       "    </tr>\n",
       "  </tbody>\n",
       "</table>\n",
       "<p>27749 rows × 2 columns</p>\n",
       "</div>"
      ],
      "text/plain": [
       "       Profession  Genre\n",
       "28553           6      0\n",
       "6286            9      1\n",
       "36284           6      0\n",
       "12083          22      1\n",
       "7859           21      0\n",
       "...           ...    ...\n",
       "6265           19      1\n",
       "11284          13      1\n",
       "38158          12      1\n",
       "860            22      1\n",
       "15795          26      1\n",
       "\n",
       "[27749 rows x 2 columns]"
      ]
     },
     "execution_count": 27,
     "metadata": {},
     "output_type": "execute_result"
    }
   ],
   "source": [
    "df_profession_gender = pd.concat([Y_train, S_train], axis=1)\n",
    "df_profession_gender.columns = ['Profession', 'Genre']\n",
    "df_profession_gender"
   ]
  },
  {
   "cell_type": "code",
   "execution_count": 28,
   "id": "2ed4f9ed",
   "metadata": {},
   "outputs": [
    {
     "name": "stdout",
     "output_type": "stream",
     "text": [
      "Genre          0     1\n",
      "Profession            \n",
      "0            237   150\n",
      "1            540   163\n",
      "2           1382   891\n",
      "3            128    56\n",
      "4            160    46\n",
      "5            324    62\n",
      "6            652   342\n",
      "7             22   240\n",
      "8             92    15\n",
      "9            347   152\n",
      "10            14    79\n",
      "11           717   685\n",
      "12            93   431\n",
      "13           127  1189\n",
      "14           286   256\n",
      "15            21   115\n",
      "16           132    46\n",
      "17            55    42\n",
      "18          1113   602\n",
      "19          1462  1456\n",
      "20           258   246\n",
      "21          4559  3726\n",
      "22           494   801\n",
      "23            83     9\n",
      "24           391    76\n",
      "25           805   143\n",
      "26           441   680\n",
      "27            21    94\n"
     ]
    }
   ],
   "source": [
    "# Tableau croisé de la profession et du genre\n",
    "cross_table = pd.crosstab(df_profession_gender['Profession'], df_profession_gender['Genre'])\n",
    "\n",
    "# Afficher le tableau croisé\n",
    "print(cross_table)"
   ]
  },
  {
   "cell_type": "markdown",
   "id": "62e172dd",
   "metadata": {},
   "source": [
    "### 2.3. Illustration graphique de la dépendance"
   ]
  },
  {
   "cell_type": "code",
   "execution_count": 29,
   "id": "ae046875",
   "metadata": {},
   "outputs": [
    {
     "data": {
      "image/png": "[encoded data removed]",
      "text/plain": [
       "<Figure size 640x480 with 1 Axes>"
      ]
     },
     "metadata": {},
     "output_type": "display_data"
    }
   ],
   "source": [
    "# Calculer le nombre total d'individus par profession\n",
    "total_by_profession = cross_table.sum(axis=1)\n",
    "\n",
    "# Diviser chaque valeur dans le tableau croisé par le nombre total d'individus par profession\n",
    "cross_table_percent = cross_table.div(total_by_profession, axis=0) * 100\n",
    "\n",
    "# Création d'un graphique à barres\n",
    "cross_table_percent.plot(kind='bar', stacked=True, color=['lightgreen', 'black'])\n",
    "plt.title('Répartition des genres par profession (en pourcentage)')\n",
    "plt.xlabel('Profession')\n",
    "plt.ylabel('Pourcentage')\n",
    "plt.xticks(rotation=90)\n",
    "plt.legend(['Femme', 'Homme'], title='Genre')\n",
    "plt.show()"
   ]
  },
  {
   "cell_type": "markdown",
   "id": "b29f25e5",
   "metadata": {},
   "source": [
    "Graphiquement, on peut voir pour certaines professions, il y a une différence notable dans les pourcentages des genres. A titre d'exemple significatif, pour la classe 5, 8, 23 et 25 on observe une nette domination des femmes. Par contre, pour les professions 7, 10, 12, 13, 15, 27 il y plus de 80% des hommes. il y a une prédominance significative d'un genre par rapport à l'autre, cela pourrait être un indicateur d'une tendance ou d'une association entre le genre et la profession. \n",
    "\n",
    "Faions une vérification avec un test statistique si ces dépendances sont significatives. "
   ]
  },
  {
   "cell_type": "markdown",
   "id": "9324de79",
   "metadata": {},
   "source": [
    "### 2.4. Vérification de la dépendance avec le test de Chi-deux"
   ]
  },
  {
   "cell_type": "markdown",
   "id": "df3cb3e6",
   "metadata": {},
   "source": [
    "**Hypothèses**\n",
    "H0 : Il n'y a pas d'association entre le genre et la profession. Cela signifie que la distribution des genres serait similaire dans toutes les professions.\n",
    "\n",
    "H1 : Il existe une association entre le genre et la profession. Cela signifierait que la distribution des genres varie entre les professions.\n",
    "\n",
    "**Test Statistique**\n",
    "Le test du chi-carré est utilisé pour comparer les fréquences observées des genres dans différentes professions avec les fréquences attendues si le genre et la profession étaient indépendants. Les étapes du test sont les suivantes :\n",
    "\n",
    "1- Calculer les fréquences attendues pour chaque combinaison de genre et de profession en supposant l'indépendance.\n",
    "\n",
    "2- Calculer la statistique de chi-carré en sommant les carrés des différences entre les fréquences observées et attendues, divisées par les fréquences attendues.\n",
    "\n",
    "3- Comparer la statistique de chi-carré calculée avec la valeur critique de la distribution du chi-carré avec le nombre approprié de degrés de liberté (dans ce cas, 27)."
   ]
  },
  {
   "cell_type": "code",
   "execution_count": 31,
   "id": "5e261979",
   "metadata": {},
   "outputs": [
    {
     "data": {
      "text/plain": [
       "(3229.383757882848, 0.0, 27)"
      ]
     },
     "execution_count": 31,
     "metadata": {},
     "output_type": "execute_result"
    }
   ],
   "source": [
    "chi2, p, dof, expected = chi2_contingency(cross_table)\n",
    "chi2, p, dof"
   ]
  },
  {
   "cell_type": "markdown",
   "id": "6b9550cc",
   "metadata": {},
   "source": [
    "Compte tenu de la valeur p de 0.0 très faible, nous rejetons l'hypothèse nulle. Il y a donc suffisamment de preuves pour conclure qu'il existe une association significative entre le genre et la profession. Cette relation est statistiquement significative, ce qui implique que le genre peut être un facteur influent dans la distribution des individus à travers différentes professions."
   ]
  },
  {
   "cell_type": "markdown",
   "id": "a7672968",
   "metadata": {},
   "source": [
    "## 3. Stratégie de modélisation "
   ]
  },
  {
   "cell_type": "markdown",
   "id": "b5ae692a",
   "metadata": {},
   "source": [
    "### 3.1. Récapitulatif de l'exploration de données"
   ]
  },
  {
   "cell_type": "markdown",
   "id": "0dfbec91",
   "metadata": {},
   "source": [
    "Finalement, voici les informations très utiles dans la modélisation :\n",
    "- target : profession (qualitative)\n",
    "- features : quantitatives\n",
    "- Même si le nombre de variables sont relativement élevées (768), ils sont moins faible que le nombre d'observations (plus de 20000).\n",
    "- Pas de NA\n",
    "- Attention aux algorithmes qui utilisent des variables standartisées, il faut standartiser les features.\n",
    "- le déséquilibre des classes pour le target\n",
    "- la relation entre le target et une variable sensible (le gender) \n",
    "- le léger déséquilibre de la classe d'hommes (46%) et femmes (54%)\n",
    "\n",
    "Du coup, il est essentiel d'agir sur le déséquilibre de classe et la discrimination.\n",
    "Quelle est notre solution? "
   ]
  },
  {
   "cell_type": "markdown",
   "id": "ede3d571",
   "metadata": {},
   "source": []
  },
  {
   "cell_type": "markdown",
   "id": "cc74768e",
   "metadata": {},
   "source": [
    "### 3.2. Méthode documentaire et principe suivi"
   ]
  },
  {
   "cell_type": "markdown",
   "id": "92356444",
   "metadata": {},
   "source": [
    "La première étape à faire à ce niveau a été la méthode documentaire. Il s'agit de lire quelles sont les solutions proposées dans la littérature pour résoudre ces problèmes. Les solutions sont variées tournant autour de pre-processing comme le rééchantillonage, la répondération puis le processing où on peut voir la solution comme l'optimisation équitable à travers les résularisations, et enfin le post-processing notamment le seuillage et la calibration. Chacune de ces améliorations nécessite un temps non négligeable pour chaque modèle. C'est ainsi qu'on a essayé d'établir une stratégie de diversité sans se perdre dans les détails. Dans ce sens, il y a un article de base qu'on a suivi : http://repository.unisi.ac.id/41/.\n",
    "\n",
    "Sans entrer en détails dans cet article, la démarche que l'on peut y tirer est la suivante : \n",
    "- Introduction de la Diversité lors de l'Entraînement : Chaque modèle de l'ensemble est entraîné séparément, en introduisant de la diversité à travers différents mécanismes. Ces mécanismes incluent \n",
    "  - l'utilisation de différentes valeurs initiales et paramètres,\n",
    "  - l'expérimentation avec diverses architectures de modèles, \n",
    "  - l'application de techniques d'apprentissage variées (comme le boosting ou le bagging), \n",
    "  - la manipulation des données d'entraînement (par exemple, en utilisant des sous-ensembles aléatoires de données ou des techniques de rééchantillonnage, SMOTE, ....), \n",
    "  - et la manipulation des caractéristiques d'entrée (comme l'utilisation de sous-ensembles aléatoires de caractéristiques). ---  \n",
    "- Chacune de ces méthodes vise à faire en sorte que les modèles apprennent à partir de perspectives différentes, traitent les données de manière unique, ou se concentrent sur différents aspects des données, ce qui augmente la diversité au sein de l'ensemble.\n",
    "\n",
    "- Combinaison des Modèles : Une fois que chaque modèle est entraîné, leurs prédictions sont combinées pour produire une sortie finale. Cette combinaison peut se faire de plusieurs manières, comme par un vote majoritaire où chaque modèle a un vote égal dans la prédiction finale\n",
    "\n",
    "- Nature de biais et orientation : **La parité démographique** dans le cadre de mon modèle de prédiction d'emploi cherche à assurer que les genres soient représentés équitablement dans chaque catégorie d'emploi prédite, indépendamment de leur proportion dans les données réelles. Si par exemple, 50% des candidats prédits pour un poste sont des femmes, alors les femmes devraient constituer 50% des prédictions pour tous les emplois, quelle que soit leur représentation dans le jeu de données. C'est une approche qui vise à neutraliser l'influence du genre sur les prédictions. En choisissant la parité démographique comme mesure d'équité, j'oriente mon modèle pour favoriser une diversité représentative. Cela permet de s'assurer que le genre ne joue pas un rôle dans les prédictions d'emploi. Ainsi, on vise une représentation équilibrée des genres dans les résultats, sans égard à leur distribution dans les données d'entraînement.\n"
   ]
  },
  {
   "cell_type": "markdown",
   "id": "531baa61",
   "metadata": {},
   "source": [
    "### 3.3. Comment s'y prendre concrètement : "
   ]
  },
  {
   "cell_type": "markdown",
   "id": "91b734c7",
   "metadata": {},
   "source": [
    "- Constitution des données \n",
    "- Lancement des modèles de classifications les plus utilisés dans la littératures sans préréglages : \n",
    "  - régression logistique\n",
    "  - SVM linéaire sans normalisation de données\n",
    "  - SGDClassifier\n",
    "  - OneVSoneClassifierSGDClassifier\n",
    "  - OneVSrestClassifierSGDClassifier\n",
    "  - randomforest\n",
    "  - réseaux de neuronnes\n",
    "  - classifieur naif de bayes\n",
    "- Choix des trois modèles qui s'adaptent le mieux aux données\n",
    "- Entrainement un à un de ces modèles en introduisant la diversité susmentionnée\n",
    "- Ensemble learning des trois méthodes"
   ]
  }
 ],
 "metadata": {
  "kernelspec": {
   "display_name": "Python 3 (ipykernel)",
   "language": "python",
   "name": "python3"
  },
  "language_info": {
   "codemirror_mode": {
    "name": "ipython",
    "version": 3
   },
   "file_extension": ".py",
   "mimetype": "text/x-python",
   "name": "python",
   "nbconvert_exporter": "python",
   "pygments_lexer": "ipython3",
   "version": "3.11.5"
  }
 },
 "nbformat": 4,
 "nbformat_minor": 5
}
